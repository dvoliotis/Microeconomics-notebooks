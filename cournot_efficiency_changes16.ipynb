{
 "cells": [
  {
   "cell_type": "markdown",
   "metadata": {},
   "source": [
    "## Cournot Competition with Efficiency Changes"
   ]
  },
  {
   "cell_type": "code",
   "execution_count": 140,
   "metadata": {},
   "outputs": [],
   "source": [
    "\n",
    "import sympy as sp\n",
    "import numpy as np\n",
    "from sympy import init_printing # Το init_printing εισάγει το LaTeX printing\n",
    "init_printing(use_latex='mathjax')\n",
    "import math\n",
    "import matplotlib.pyplot as plt"
   ]
  },
  {
   "cell_type": "code",
   "execution_count": 141,
   "metadata": {},
   "outputs": [],
   "source": [
    "#Βασικές παράμετροι υποδείγματος\n",
    "# Ποσότητες\n",
    "Q, q1 , q2, q3, c = sp.var('Q, q1, q2,q3,c', real=True, positive=True)\n",
    "# Κόστος, τιμή\n",
    "TC1, TC12, TC22, p = sp.var('TC1, TC12, TC22m  p', real=True, positive=True)"
   ]
  },
  {
   "cell_type": "markdown",
   "metadata": {},
   "source": [
    "Παράμετρος TC1 εκφράζει το συνολικό κόστος της Επιχείρησης 1 και δίνεται από την σχέση $TC1= 4q_1$. Αντίστοιχα, για την Επιχείρηση 2 αρχικά υποθέτουμε συμμετρικό κόστος, δλδ $TC12=4q_2$ ενώ στην συνέχεια υποθέτουμε ότι η τεχνολογία μειώνει το οριακό κόστος σε 2, $TC22= 2q_2$"
   ]
  },
  {
   "cell_type": "code",
   "execution_count": 142,
   "metadata": {},
   "outputs": [],
   "source": [
    "TC1 = 4*q1;\n",
    "TC12 = 4*q2;\n",
    "TC22 = 2*q2\n"
   ]
  },
  {
   "cell_type": "markdown",
   "metadata": {},
   "source": [
    "Η αντίστροφη συνάρτηση ζήτησης είναι:"
   ]
  },
  {
   "cell_type": "code",
   "execution_count": 143,
   "metadata": {},
   "outputs": [
    {
     "data": {
      "text/latex": [
       "$\\displaystyle - q_{1} - q_{2} + 10$"
      ],
      "text/plain": [
       "-q₁ - q₂ + 10"
      ]
     },
     "execution_count": 143,
     "metadata": {},
     "output_type": "execute_result"
    }
   ],
   "source": [
    "p =10 -Q\n",
    "price = p.xreplace({Q :q1+q2})\n",
    "price"
   ]
  },
  {
   "cell_type": "markdown",
   "metadata": {},
   "source": [
    "Η συνάρτηση κερδών για τις δύο επιχειρήσεις είναι:"
   ]
  },
  {
   "cell_type": "code",
   "execution_count": 144,
   "metadata": {},
   "outputs": [
    {
     "data": {
      "text/latex": [
       "$\\displaystyle \\left( - q_{1}^{2} - q_{1} q_{2} + 6 q_{1}, \\  - q_{1} q_{2} - q_{2}^{2} + 6 q_{2}, \\  - q_{1} q_{2} - q_{2}^{2} + 8 q_{2}\\right)$"
      ],
      "text/plain": [
       "⎛    2                            2                    2       ⎞\n",
       "⎝- q₁  - q₁⋅q₂ + 6⋅q₁, -q₁⋅q₂ - q₂  + 6⋅q₂, -q₁⋅q₂ - q₂  + 8⋅q₂⎠"
      ]
     },
     "execution_count": 144,
     "metadata": {},
     "output_type": "execute_result"
    }
   ],
   "source": [
    "profit1 = price*q1 -TC1;\n",
    "profit21 = price*q2 -TC12;\n",
    "profit22 = price*q2 -TC22;\n",
    "\n",
    "profit1.expand(), profit21.expand(), profit22.expand()"
   ]
  },
  {
   "cell_type": "markdown",
   "metadata": {},
   "source": [
    "Στην συνέχεια υπολογίζουμε τις συναρτήσεις βέλτιστης αντίδρασης για την συμμετρική περίπτωση. Μεγιστοποιούμε τις συναρτήσεις κέρδους ως προς τις στρατηγικές μεταβλητές $q_1, q_2$."
   ]
  },
  {
   "cell_type": "code",
   "execution_count": 145,
   "metadata": {},
   "outputs": [
    {
     "data": {
      "text/latex": [
       "$\\displaystyle \\left( \\left[ 3 - \\frac{q_{2}}{2}\\right], \\  \\left[ 3 - \\frac{q_{1}}{2}\\right], \\  \\left[ 4 - \\frac{q_{1}}{2}\\right]\\right)$"
      ],
      "text/plain": [
       "⎛⎡    q₂⎤  ⎡    q₁⎤  ⎡    q₁⎤⎞\n",
       "⎜⎢3 - ──⎥, ⎢3 - ──⎥, ⎢4 - ──⎥⎟\n",
       "⎝⎣    2 ⎦  ⎣    2 ⎦  ⎣    2 ⎦⎠"
      ]
     },
     "execution_count": 145,
     "metadata": {},
     "output_type": "execute_result"
    }
   ],
   "source": [
    "#Για την Επιχείρηση 1, μεγιστοποιούμε την συνάρτηση κερδών της ως προς το q1\n",
    "BR1 =sp.solve(sp.diff(profit1, q1), q1)\n",
    "BR21 =sp.solve(sp.diff(profit21, q2), q2)\n",
    "BR22 =sp.solve(sp.diff(profit22, q2), q2)\n",
    "\n",
    "\n",
    "BR1, BR21, BR22"
   ]
  },
  {
   "cell_type": "markdown",
   "metadata": {},
   "source": [
    "Υπολογίζουμε την ισορροπία  Nash για την συμμετρική περίπτωση\n"
   ]
  },
  {
   "cell_type": "code",
   "execution_count": 146,
   "metadata": {},
   "outputs": [
    {
     "data": {
      "text/latex": [
       "$\\displaystyle \\left\\{ q_{1} : 2, \\  q_{2} : 2\\right\\}$"
      ],
      "text/plain": [
       "{q₁: 2, q₂: 2}"
      ]
     },
     "execution_count": 146,
     "metadata": {},
     "output_type": "execute_result"
    }
   ],
   "source": [
    "Nash = sp.solve((q1-BR1[0], q2-BR21[0]), q1, q2)\n",
    "Nash"
   ]
  },
  {
   "cell_type": "markdown",
   "metadata": {},
   "source": [
    "Τα κέρδη της Επιχείρησης είναι:"
   ]
  },
  {
   "cell_type": "code",
   "execution_count": 147,
   "metadata": {},
   "outputs": [
    {
     "data": {
      "text/latex": [
       "$\\displaystyle \\left( 4, \\  4\\right)$"
      ],
      "text/plain": [
       "(4, 4)"
      ]
     },
     "execution_count": 147,
     "metadata": {},
     "output_type": "execute_result"
    }
   ],
   "source": [
    "profit1.subs(Nash), profit21.subs(Nash)"
   ]
  },
  {
   "cell_type": "markdown",
   "metadata": {},
   "source": [
    "Υπολογίζουμε την ισορροπία Nash για την περίπτωση των μεταβολών αποτελεσματικότητας."
   ]
  },
  {
   "cell_type": "code",
   "execution_count": 148,
   "metadata": {},
   "outputs": [
    {
     "data": {
      "text/latex": [
       "$\\displaystyle \\left\\{ q_{1} : \\frac{4}{3}, \\  q_{2} : \\frac{10}{3}\\right\\}$"
      ],
      "text/plain": [
       "{q₁: 4/3, q₂: 10/3}"
      ]
     },
     "execution_count": 148,
     "metadata": {},
     "output_type": "execute_result"
    }
   ],
   "source": [
    "Nash2 = sp.solve((q1-BR1[0], q2-BR22[0]), q1, q2)\n",
    "Nash2"
   ]
  },
  {
   "cell_type": "markdown",
   "metadata": {},
   "source": [
    "τα αντίστοιχα κέρδη είναι:"
   ]
  },
  {
   "cell_type": "code",
   "execution_count": 149,
   "metadata": {},
   "outputs": [
    {
     "data": {
      "text/latex": [
       "$\\displaystyle \\left( \\frac{16}{9}, \\  \\frac{100}{9}\\right)$"
      ],
      "text/plain": [
       "(16/9, 100/9)"
      ]
     },
     "execution_count": 149,
     "metadata": {},
     "output_type": "execute_result"
    }
   ],
   "source": [
    "profit1.subs(Nash2), profit22.subs(Nash2)"
   ]
  },
  {
   "cell_type": "markdown",
   "metadata": {},
   "source": [
    "### Διαγράμματα για τις καμπύλες βέλτιστης αντίδρασης"
   ]
  },
  {
   "cell_type": "markdown",
   "metadata": {},
   "source": [
    "Αρχικά θα πρέπει να εκφράζουμε την συνάρτηση βέλτιστης αντίδρασης της Επιχείρησης 2 ως μια συνάρτηση του $q_1$"
   ]
  },
  {
   "cell_type": "code",
   "execution_count": 150,
   "metadata": {},
   "outputs": [
    {
     "data": {
      "text/latex": [
       "$\\displaystyle \\left( \\left[ 6 - 2 q_{2}\\right], \\  \\left[ 8 - 2 q_{2}\\right]\\right)$"
      ],
      "text/plain": [
       "([6 - 2⋅q₂], [8 - 2⋅q₂])"
      ]
     },
     "execution_count": 150,
     "metadata": {},
     "output_type": "execute_result"
    }
   ],
   "source": [
    "BR21 = sp.solve(q2-BR21[0], q1);\n",
    "BR22 = sp.solve(q2-BR22[0], q1);\n",
    "\n",
    "BR21, BR22"
   ]
  },
  {
   "cell_type": "code",
   "execution_count": 151,
   "metadata": {},
   "outputs": [
    {
     "data": {
      "image/png": "[encoded data removed]",
      "text/plain": [
       "<Figure size 640x480 with 1 Axes>"
      ]
     },
     "metadata": {},
     "output_type": "display_data"
    }
   ],
   "source": [
    "from numpy import linspace\n",
    "Firm1BR = sp.lambdify(q2, BR1[0], modules=['numpy'])\n",
    "Firm2BR1 = sp.lambdify(q2,BR21[0], modules=['numpy'])\n",
    "Firm2BR2 = sp.lambdify(q2,BR22[0], modules=['numpy'])\n",
    "\n",
    "\n",
    "x_vals = linspace(0.1, 5, 200)\n",
    "y_vals = Firm1BR(x_vals)\n",
    "z_vals = Firm2BR1(x_vals)\n",
    "w_vals = Firm2BR2(x_vals)\n",
    "\n",
    "plt.title('Καμπύλες  Βέλτιστης Αντίδρασης')\n",
    "plt.grid(True)\n",
    "plt.ylabel(\"$q_1$\")\n",
    "plt.xlabel(\"$q_2$\")\n",
    "plt.legend(['Επιχείρ.1', 'Επιχείρ.2'])\n",
    "\n",
    "\n",
    "plt.plot(x_vals, y_vals, x_vals, z_vals)\n",
    "plt.show()"
   ]
  },
  {
   "cell_type": "markdown",
   "metadata": {},
   "source": [
    "Το διάγραμμα μετά την μεταβολή αποτελεσματικότητας"
   ]
  },
  {
   "cell_type": "code",
   "execution_count": 152,
   "metadata": {},
   "outputs": [
    {
     "data": {
      "image/png": "[encoded data removed]",
      "text/plain": [
       "<Figure size 640x480 with 1 Axes>"
      ]
     },
     "metadata": {},
     "output_type": "display_data"
    }
   ],
   "source": [
    "plt.title('Καμπύλες  Βέλτιστης Αντίδρασης')\n",
    "plt.grid(True)\n",
    "plt.ylabel(\"$q_1$\")\n",
    "plt.xlabel(\"$q_2$\")\n",
    "plt.legend(['Firm1', 'Firm2'])\n",
    "\n",
    "\n",
    "plt.plot(x_vals, y_vals, x_vals, w_vals)\n",
    "plt.show()"
   ]
  },
  {
   "cell_type": "markdown",
   "metadata": {},
   "source": [
    "## Συγχωνέυσεις"
   ]
  },
  {
   "cell_type": "markdown",
   "metadata": {},
   "source": [
    "Αρχικά, λύνουμε το πρόβλημα Cournot με τρεις συμμετρικές Επιχειρήσεις και υπολογίζουμε τα κέρδη της κάθε Επιχείρησης."
   ]
  },
  {
   "cell_type": "code",
   "execution_count": 153,
   "metadata": {},
   "outputs": [
    {
     "data": {
      "text/latex": [
       "$\\displaystyle - q_{1} - q_{2} - q_{3} + 1$"
      ],
      "text/plain": [
       "-q₁ - q₂ - q₃ + 1"
      ]
     },
     "execution_count": 153,
     "metadata": {},
     "output_type": "execute_result"
    }
   ],
   "source": [
    "p =1 -Q\n",
    "price = p.xreplace({Q :q1+q2+q3})\n",
    "price"
   ]
  },
  {
   "cell_type": "markdown",
   "metadata": {},
   "source": [
    "Η συνάρτηση κόστους της Επιχείρησης 1 (αντίστοιχα για τις άλλες δύο Επιχειρήσεις),"
   ]
  },
  {
   "cell_type": "code",
   "execution_count": 154,
   "metadata": {},
   "outputs": [],
   "source": [
    "TC1 = c*q1"
   ]
  },
  {
   "cell_type": "markdown",
   "metadata": {},
   "source": [
    "Η συνάρτηση κερδών της Επιχείρησης 1,"
   ]
  },
  {
   "cell_type": "code",
   "execution_count": 155,
   "metadata": {},
   "outputs": [
    {
     "data": {
      "text/latex": [
       "$\\displaystyle - c q_{1} - q_{1}^{2} - q_{1} q_{2} - q_{1} q_{3} + q_{1}$"
      ],
      "text/plain": [
       "          2                     \n",
       "-c⋅q₁ - q₁  - q₁⋅q₂ - q₁⋅q₃ + q₁"
      ]
     },
     "execution_count": 155,
     "metadata": {},
     "output_type": "execute_result"
    }
   ],
   "source": [
    "profit1 = price*q1 -TC1;\n",
    "\n",
    "profit1.expand()"
   ]
  },
  {
   "cell_type": "markdown",
   "metadata": {},
   "source": [
    "Στο πρόβλημα μεγιστοποίησης, από τις ΑΣΠΤ λαμβάνουμε,"
   ]
  },
  {
   "cell_type": "code",
   "execution_count": 156,
   "metadata": {},
   "outputs": [
    {
     "data": {
      "text/latex": [
       "$\\displaystyle - c - 2 q_{1} - q_{2} - q_{3} + 1$"
      ],
      "text/plain": [
       "-c - 2⋅q₁ - q₂ - q₃ + 1"
      ]
     },
     "execution_count": 156,
     "metadata": {},
     "output_type": "execute_result"
    }
   ],
   "source": [
    "sp.diff(profit1, q1)"
   ]
  },
  {
   "cell_type": "markdown",
   "metadata": {},
   "source": [
    "Στην συμμετρική περίπτωση, ισχύει ότι $q_1=q_2=q_3$. Αντικαθιστώ ανάλογα."
   ]
  },
  {
   "cell_type": "code",
   "execution_count": 157,
   "metadata": {},
   "outputs": [
    {
     "data": {
      "text/latex": [
       "$\\displaystyle - c - 4 q_{1} + 1$"
      ],
      "text/plain": [
       "-c - 4⋅q₁ + 1"
      ]
     },
     "execution_count": 157,
     "metadata": {},
     "output_type": "execute_result"
    }
   ],
   "source": [
    "FOC = sp.diff(profit1, q1).xreplace({q2:q1, q3:q1})\n",
    "\n",
    "FOC"
   ]
  },
  {
   "cell_type": "markdown",
   "metadata": {},
   "source": [
    "Λϋνω ως προς το $q_1$ ώστε να υπολογίσω την συμμετρική ισορροπία  Nash"
   ]
  },
  {
   "cell_type": "code",
   "execution_count": 158,
   "metadata": {},
   "outputs": [
    {
     "data": {
      "text/latex": [
       "$\\displaystyle \\left[ \\frac{1}{4} - \\frac{c}{4}\\right]$"
      ],
      "text/plain": [
       "⎡1   c⎤\n",
       "⎢─ - ─⎥\n",
       "⎣4   4⎦"
      ]
     },
     "execution_count": 158,
     "metadata": {},
     "output_type": "execute_result"
    }
   ],
   "source": [
    "Nash = sp.solve(FOC,q1);\n",
    "\n",
    "Nash"
   ]
  },
  {
   "cell_type": "markdown",
   "metadata": {},
   "source": [
    "Η τιμή στην ισορροπία υπολογίζεται ως:\n"
   ]
  },
  {
   "cell_type": "code",
   "execution_count": 162,
   "metadata": {},
   "outputs": [],
   "source": [
    "profit = profit1.xreplace({q2:q1, q3:q1})"
   ]
  },
  {
   "cell_type": "code",
   "execution_count": 166,
   "metadata": {},
   "outputs": [
    {
     "data": {
      "text/latex": [
       "$\\displaystyle \\frac{\\left(c - 1\\right)^{2}}{16}$"
      ],
      "text/plain": [
       "       2\n",
       "(c - 1) \n",
       "────────\n",
       "   16   "
      ]
     },
     "execution_count": 166,
     "metadata": {},
     "output_type": "execute_result"
    }
   ],
   "source": [
    "profit.subs(q1, Nash[0]).factor() #factor είναι η αντίστροφη λειτουργία από το expand()"
   ]
  }
 ],
 "metadata": {
  "kernelspec": {
   "display_name": "Python 3",
   "language": "python",
   "name": "python3"
  },
  "language_info": {
   "codemirror_mode": {
    "name": "ipython",
    "version": 3
   },
   "file_extension": ".py",
   "mimetype": "text/x-python",
   "name": "python",
   "nbconvert_exporter": "python",
   "pygments_lexer": "ipython3",
   "version": "3.11.2"
  }
 },
 "nbformat": 4,
 "nbformat_minor": 2
}
