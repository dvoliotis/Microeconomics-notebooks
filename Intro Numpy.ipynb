{
 "cells": [
  {
   "cell_type": "markdown",
   "id": "f8e3c78a",
   "metadata": {},
   "source": [
    "# Μία εισαγωγή στην Numpy σε 10 λεπτά!"
   ]
  },
  {
   "cell_type": "markdown",
   "id": "e5913830",
   "metadata": {},
   "source": [
    "**Πλειάδες, Λίστες και Διανύσματα**\n",
    "\n",
    "Στο παρόν κεφάλαιο θα κάνουμε μία σύντομη εισαγωγή στην βιβλιοθήκη της python, η οποία θα μας επιτρέψει να  ορίσουμε διανύσματα, πλειομεταβλήτές συναρτήσεις και πίνακες. Στην μικροοικονομική θεωρία βασικές έννοιες όπως οι τιμές και οι ποσότητες αγαθών ορίζονται ως πολυδιάστατα διανύσματα και πίνακες,ενώ η ανάλυσή μας πολλές φορές απαιτεί κάποια στοιχειώδη εργαλεία άλγεβρας. Θα ξεκινήσουμε την παρουσίασή μας με κάποιες δομές στοιχείων που είναι ενσωματωμένες στην Python, όπως οι πλειάδες (**tuples**) και οι λίστες (**lists**), και στην συνέχεια θα ορίσουμε την βασική δομή που χρησιμοποιούμε στην βιβλιοθήκη της Numpy,  το διάνυσμα (**array**).\n",
    "\n",
    "Μία πλειάδα είναι μια συμβολοσειρά σταθερού μήκους και τα ορίσματά της μπορεί να αριθμοί ή και γράμματα. Ορίζουμε μια πλειάδα ως εξής:"
   ]
  },
  {
   "cell_type": "code",
   "execution_count": 1,
   "id": "4f13afe3",
   "metadata": {},
   "outputs": [
    {
     "data": {
      "text/plain": [
       "('b', 2, 3, 'apple')"
      ]
     },
     "execution_count": 1,
     "metadata": {},
     "output_type": "execute_result"
    }
   ],
   "source": [
    "a=('b', 2, 3, 'apple')\n",
    "a"
   ]
  },
  {
   "cell_type": "code",
   "execution_count": 2,
   "id": "1e670be3",
   "metadata": {},
   "outputs": [
    {
     "data": {
      "text/plain": [
       "tuple"
      ]
     },
     "execution_count": 2,
     "metadata": {},
     "output_type": "execute_result"
    }
   ],
   "source": [
    "type(a)"
   ]
  },
  {
   "cell_type": "markdown",
   "id": "caaedea4",
   "metadata": {},
   "source": [
    "Παραπάνω έχουμε ορίσει μια πλειάδα, αποτελούμε από  τέσσερα στοιχεία, τα οποία διατάσουμε διαχωρισμένα από κόμματα και περικλειόμενα σε παρενθέσεις. Έχουμε ορίσει την πλειάδα με το γράμμα $a$,  και όπως μπορείτε να παρατηρήσετε στο παραπάνω κελί, τα ορίσματα του είναι αριθμοί , γραμμάτα και ολόκληρες λέξεις. Εφόσον, έχουμε ορίσει την πλειάδα μπορούμε να επικαλέστούμε τα μεμονωμένα στοιχεία του. Η πλειάδα μας έχει τέσσερα διατεταγμένα στοιχεία το πρώτο στοιχείο είναι το γραμμά 'b', ακολουθούμενο από τους αριθμούς 2 και 3, ενώ το τελευταίο στοιχείο είναι η λέξη 'apple'. Στο κελί 2, επιβεβαιώνουμε ότι το a  είναι όντως μια πλειάδα, χρησιμοποιώντας την εντολή  type().\n",
    "\n",
    "Σε κάθε συμβολοσειρά στην Python το πρώτο στοιχείο είναι στην θέση 0. Επομένως, αν επικαλεστω το στοιχείο στην θέση 0, η Python θα μου επιστρέψει το πρώτο στοιχείο, δηλαδή το 'b'. "
   ]
  },
  {
   "cell_type": "code",
   "execution_count": 3,
   "id": "2af5d567",
   "metadata": {},
   "outputs": [
    {
     "data": {
      "text/plain": [
       "'b'"
      ]
     },
     "execution_count": 3,
     "metadata": {},
     "output_type": "execute_result"
    }
   ],
   "source": [
    "a[0]"
   ]
  },
  {
   "cell_type": "markdown",
   "id": "1206aa54",
   "metadata": {},
   "source": [
    "Όμοια, αν επικαλεστώ το δεύτερο στοιχείο, η Python μου επιστρέφει τον αριθμό 2."
   ]
  },
  {
   "cell_type": "code",
   "execution_count": 4,
   "id": "b0be5a83",
   "metadata": {},
   "outputs": [
    {
     "data": {
      "text/plain": [
       "2"
      ]
     },
     "execution_count": 4,
     "metadata": {},
     "output_type": "execute_result"
    }
   ],
   "source": [
    "a[1]"
   ]
  },
  {
   "cell_type": "markdown",
   "id": "94e8e122",
   "metadata": {},
   "source": [
    "Σε κάθε περίπτωση, εφόσον μπορώ να επικαλεστώ τα μεμονωμένα στοιχεία της πλειάδας, θα μπορούσα και να τα επαναπροσδιορίσω. Για παράδειγμα, θα ήθελα να αλλάξω το πρώτο στοιχείο της πλειάδας a με τον αριθμό 10. Δυστυχώς, στις πλειάδες δεν μπορούμε να επαναπροσδιορίσουμε τα στοιχεία της συμβολοσειράς, και όπως προείπαμε δεν μπορούμε να αλλαξουμε και την διάστασή της. Ωστόσο, ευτυχώς τις δυνατότητες αυτές μας τις παρέχει μια παρόμοια συμβολοσειρά, η λίστα. Στον ορισμό μιας λίστας τα στοιχεία της συμβολοσειράς περικλείονται σε αγκύλες και όχι σε παρενθέσεις. Ακολούθως ορίζω την λίστα b."
   ]
  },
  {
   "cell_type": "code",
   "execution_count": 5,
   "id": "4df5567f",
   "metadata": {},
   "outputs": [
    {
     "data": {
      "text/plain": [
       "[1, 2, 3, 'q']"
      ]
     },
     "execution_count": 5,
     "metadata": {},
     "output_type": "execute_result"
    }
   ],
   "source": [
    "b=[1,2,3,'q']\n",
    "b"
   ]
  },
  {
   "cell_type": "markdown",
   "id": "77e66f88",
   "metadata": {},
   "source": [
    "Αν επιθυμώ να αλλάξω το τελευταίο στοιχείο της λίστας b, το οποίο είναι το γράμμα 'q', με τον αριθμό 10, πλέον είμαι σε θέση να το κάνω. Το τελευταίο στοιχείο της λίστας β είναι στην θέση 3. Θυμηθείτε ότι πάντα ξεκινάμε την αρίθμηση από την θέση 0,\n",
    "$$b=[1,2,3, 'q']$$\n",
    "με αύξοντα αριθμό θέσεων\n",
    "$$b=[0,1,2,3].$$"
   ]
  },
  {
   "cell_type": "code",
   "execution_count": 6,
   "id": "1ecb54b3",
   "metadata": {},
   "outputs": [
    {
     "data": {
      "text/plain": [
       "[1, 2, 3, 10]"
      ]
     },
     "execution_count": 6,
     "metadata": {},
     "output_type": "execute_result"
    }
   ],
   "source": [
    "b[3]=10\n",
    "b"
   ]
  },
  {
   "cell_type": "markdown",
   "id": "feada948",
   "metadata": {},
   "source": [
    "Στο κελί 6, όρισα το στοιχείο της λίστας b στην θέση 3, να είναι το στοιχείο 10. Επικαλούμενος εκ νέου την λίστα, η αντικάτάσταση έχει πραγματοποιηθεί.\n",
    "\n",
    "Ένας διαφορετικός τρόπος να επικαλούμε τα στοιχεία μια λίστας είναι αναφορικά από το τελευταίο στοιχείο της και όχι το πρώτο. Όπως είδαμε παραπάνω το τελευταίο στοιχείο της λίστας b είναι το $b[3]$. Στην Python, μπορούμε να επικαλεστούμε το τελευταίο στοιχείο μια λίστας με την θέση -1. Συγκεκριμένα,"
   ]
  },
  {
   "cell_type": "code",
   "execution_count": 7,
   "id": "00199660",
   "metadata": {},
   "outputs": [
    {
     "data": {
      "text/plain": [
       "10"
      ]
     },
     "execution_count": 7,
     "metadata": {},
     "output_type": "execute_result"
    }
   ],
   "source": [
    "b[-1]"
   ]
  },
  {
   "cell_type": "markdown",
   "id": "eea9b11a",
   "metadata": {},
   "source": [
    "Όμοια, το προ-τελευταίο στοιχείο της λίστας είναι το -2, κοκ.."
   ]
  },
  {
   "cell_type": "markdown",
   "id": "b641f1ea",
   "metadata": {},
   "source": [
    "#### Ένωση και τεμαχισμός λίστας"
   ]
  },
  {
   "cell_type": "markdown",
   "id": "6caaa176",
   "metadata": {},
   "source": [
    "Ας ορίσουμε μια νέα λίστα."
   ]
  },
  {
   "cell_type": "code",
   "execution_count": 8,
   "id": "9442393d",
   "metadata": {},
   "outputs": [],
   "source": [
    "c=[11,12,13]"
   ]
  },
  {
   "cell_type": "markdown",
   "id": "4fe7d6d3",
   "metadata": {},
   "source": [
    "Μπορώ να ορίσω μια καινούργια λίστα, την οποία θα ονομάσουμε λίστα d, η οποία θα αποτελείται από τα στοιχεία των λιστών b  και c."
   ]
  },
  {
   "cell_type": "code",
   "execution_count": 9,
   "id": "a401613b",
   "metadata": {},
   "outputs": [
    {
     "data": {
      "text/plain": [
       "[1, 2, 3, 10, 11, 12, 13]"
      ]
     },
     "execution_count": 9,
     "metadata": {},
     "output_type": "execute_result"
    }
   ],
   "source": [
    "d=b+c\n",
    "d"
   ]
  },
  {
   "cell_type": "markdown",
   "id": "baffdd49",
   "metadata": {},
   "source": [
    "Η νέα λίστα αποτελείται απο τα 4 στοιχεία της b και τα 3 στοιχεία της c. Αν επιθυμούσα να προσθέσω ακόμη ένα στοιχείο στο τέλος της λίστας d, για παράδειγμα το στοιχείο 5, θα μπορούσα να χρησιμοποιήσω την εντολή append()."
   ]
  },
  {
   "cell_type": "code",
   "execution_count": 10,
   "id": "5277d0a6",
   "metadata": {},
   "outputs": [
    {
     "data": {
      "text/plain": [
       "[1, 2, 3, 10, 11, 12, 13, 5]"
      ]
     },
     "execution_count": 10,
     "metadata": {},
     "output_type": "execute_result"
    }
   ],
   "source": [
    "d.append(5)\n",
    "d"
   ]
  },
  {
   "cell_type": "markdown",
   "id": "2aebe439",
   "metadata": {},
   "source": [
    "Στην νέα μορφή της η λίστα d έχει ένα επιπλέον στοιχείο. Ωστόσο πολλές φορές θα ήταν χρήσιμο για εμένα οι αριθμοί στην λίστα να είναι σορταρισμένοι σε αύξον μέγεθος. Επομένως, οι αριθμοί στην λίστα να εμφανίζονται από τον μικρότερο προς τον μεγαλύτερο. Η εντολή που χρησιμοποιούμε ώστε να επιτύχουμε το αύξον σορτάρισμα είναι η εντολή sort()."
   ]
  },
  {
   "cell_type": "code",
   "execution_count": 11,
   "id": "89f2e32d",
   "metadata": {},
   "outputs": [
    {
     "data": {
      "text/plain": [
       "[1, 2, 3, 5, 10, 11, 12, 13]"
      ]
     },
     "execution_count": 11,
     "metadata": {},
     "output_type": "execute_result"
    }
   ],
   "source": [
    "d.sort()\n",
    "d"
   ]
  },
  {
   "cell_type": "markdown",
   "id": "1fba43c6",
   "metadata": {},
   "source": [
    "Ένα άλλο χρήσιμό εργαλείο που μας παρέχει η  Python είναι ότι οι συμβολοσειρές της επιδέχονται τιμές αληθοφάνειας, επομένως μπορούμε να δούμε αν ικανοποιούν κάποια κριτήρια ή χαρακτηριστικά ή όχι. Ένα απλό παράδειγμα είναι το ακόλουθο. Θα επιθυμούσα να γνωρίζω αν ο αριθμό 7 περιέχεται στην λίστα μου."
   ]
  },
  {
   "cell_type": "code",
   "execution_count": 12,
   "id": "74121f23",
   "metadata": {},
   "outputs": [
    {
     "data": {
      "text/plain": [
       "False"
      ]
     },
     "execution_count": 12,
     "metadata": {},
     "output_type": "execute_result"
    }
   ],
   "source": [
    "7 in d"
   ]
  },
  {
   "cell_type": "markdown",
   "id": "8f0e7427",
   "metadata": {},
   "source": [
    "Όπως ήταν αναμενόμενο, ο αριθμός 7 δεν είναι στην λίστα μου. Αντίθετα, μπορώ να επιβεβαιώσω ότι ο αριθμός 5 είναι στην λίστα μου."
   ]
  },
  {
   "cell_type": "code",
   "execution_count": 13,
   "id": "ef94db56",
   "metadata": {},
   "outputs": [
    {
     "data": {
      "text/plain": [
       "True"
      ]
     },
     "execution_count": 13,
     "metadata": {},
     "output_type": "execute_result"
    }
   ],
   "source": [
    "5 in d"
   ]
  },
  {
   "cell_type": "markdown",
   "id": "22a81852",
   "metadata": {},
   "source": [
    "Πάμε τώρα να δούμε ένα άλλο ενδιαφέρον εργαλείο που μπορούμε να χρησιμοποιήσουμε με τις λίστες, τον *τεμαχισμό*. Η λίστα d που έχω κατασκευάσει αποτελείται από 8 στοιχεία ή είναι μήκους 8. Αν δεν είμαι σίγουρος για το μήκος της λίστας μου μπορώ να χρησιμοποιήσω την εντολή len()."
   ]
  },
  {
   "cell_type": "code",
   "execution_count": 14,
   "id": "0adc8e50",
   "metadata": {},
   "outputs": [
    {
     "data": {
      "text/plain": [
       "8"
      ]
     },
     "execution_count": 14,
     "metadata": {},
     "output_type": "execute_result"
    }
   ],
   "source": [
    "len(d)"
   ]
  },
  {
   "cell_type": "markdown",
   "id": "48985248",
   "metadata": {},
   "source": [
    "Εστω ότι θα επιθυμούσα να κρατήσω μόνο τα 5 πρώτα στοιχεία."
   ]
  },
  {
   "cell_type": "code",
   "execution_count": 15,
   "id": "1648ec7e",
   "metadata": {},
   "outputs": [
    {
     "data": {
      "text/plain": [
       "[1, 2, 3, 5, 10]"
      ]
     },
     "execution_count": 15,
     "metadata": {},
     "output_type": "execute_result"
    }
   ],
   "source": [
    "d[0:5]"
   ]
  },
  {
   "cell_type": "markdown",
   "id": "4a8ffa86",
   "metadata": {},
   "source": [
    "Στην περίπτωση αυτή δίνω δύο ορίσματα, Το πρώτο στοιχείο που περιλαμβάνεται και μετά την ανω-κάτω τελεία δίνω το πρώτο στοιχείο που δεν περιλαμβάνεται στην λίστα μου. Όντως, εδω το όρισμα είναι το στοιχείο στην θέση 5 (δηλαδή το έκτο στοιχείο της λίστας) το οποίο είναι ο αριθμός 11. Επίσης το πρώτο στοιχείο που περιλαμβάνεται είναι στην θέση 0 δηλαδή το $d[0]=1$. Προς διευκόλυνση μας, αν ξεκινούμε από την αρχή της λίστας, μπορούμε να αφήσουμε το όρισμα κενό, δηλαδή,"
   ]
  },
  {
   "cell_type": "code",
   "execution_count": 16,
   "id": "d9923b28",
   "metadata": {},
   "outputs": [
    {
     "data": {
      "text/plain": [
       "[1, 2, 3, 5, 10]"
      ]
     },
     "execution_count": 16,
     "metadata": {},
     "output_type": "execute_result"
    }
   ],
   "source": [
    "d[:5]"
   ]
  },
  {
   "cell_type": "markdown",
   "id": "e080e4bf",
   "metadata": {},
   "source": [
    "Τώρα, αν επιθυμώ να τεμαχίσω την λίστα από ένα σημείο διαφορετικό από το πρώτο στοιχείο, για παράδειγμα από το τρίτο στοιχείο (το οποίο βρίσκεται στην θέση 2, $d[2]=3$, η εντολή που θα έδινα θα ήταν"
   ]
  },
  {
   "cell_type": "code",
   "execution_count": 17,
   "id": "818eab76",
   "metadata": {},
   "outputs": [
    {
     "data": {
      "text/plain": [
       "[3, 5, 10]"
      ]
     },
     "execution_count": 17,
     "metadata": {},
     "output_type": "execute_result"
    }
   ],
   "source": [
    "d[2:5]"
   ]
  },
  {
   "cell_type": "markdown",
   "id": "bb98dc4d",
   "metadata": {},
   "source": [
    "Έστω τώρα ότι επιθυμώ να τεμαχίσω την λίστα d απο την θέση 2 έως το τέλος. Η αντίστοιχη εντολή θα ήταν,"
   ]
  },
  {
   "cell_type": "code",
   "execution_count": 18,
   "id": "042adbc4",
   "metadata": {},
   "outputs": [
    {
     "data": {
      "text/plain": [
       "[3, 5, 10, 11, 12, 13]"
      ]
     },
     "execution_count": 18,
     "metadata": {},
     "output_type": "execute_result"
    }
   ],
   "source": [
    "d[2:]"
   ]
  },
  {
   "cell_type": "markdown",
   "id": "3be62ccf",
   "metadata": {},
   "source": [
    "Μπορώ να χρησιμοποιήσω στα ορίσματά μου κατά τον τεμαχισμό ως σημείο αναφοράς το τέλος; Η απάντηση είναι καταφατική. Θυμηθείτε πως αλλάζει η αρίθμηση αναφοράς για την λίστα d,\n",
    "$$ d=[0,1,2,3,4,5,6,7]$$\n",
    "ή\n",
    "$$ d = [-8,-7,-6,-5,-4,-3,-2,-1]$$\n",
    "Παρατηρούμε ότι $d[2]=3=d[-6]$. Επομένως, θα ήταν"
   ]
  },
  {
   "cell_type": "code",
   "execution_count": 19,
   "id": "c3e114b1",
   "metadata": {},
   "outputs": [
    {
     "data": {
      "text/plain": [
       "[3, 5, 10, 11, 12, 13]"
      ]
     },
     "execution_count": 19,
     "metadata": {},
     "output_type": "execute_result"
    }
   ],
   "source": [
    "d[-6:]"
   ]
  },
  {
   "cell_type": "markdown",
   "id": "2f19a097",
   "metadata": {},
   "source": [
    "##  Η βιβλιοθήκη  Numpy"
   ]
  },
  {
   "cell_type": "markdown",
   "id": "7a000ba8",
   "metadata": {},
   "source": [
    "Ενώ οι λίστες και οι πλειάδες είναι δομές στοιχείων οι οποίες μπορούν να περιλαμβάνουν όποιες  συμβολοσειρές επιθυμούμε η βιβλιοθήκη Numpy χρησιμοποιείται  για την αριθμητική ανάλυση και την χρήση πράξεων άλγεβρας σε χώρους διανυσμάτων. Βασικό στοιχείο της βιβλιοθήκης είναι το πολυδιάστατο διάνυσμα (ndarray) το οποίο δέχεται μόνο αριθμούς ως στοιχεία. Για να μπορέσουμε να ορίσουμε ένα διάνυσμα θα πρέπει πρώτα να επικαλεστούμε την βιβλιοθήκη της Numpy. Ο πιο τυπικό τρόπος για να το κανουε αυτό είναι να χρησιμοποιήσουμε κάποιο alias ώστε να κάνουμε εύκολη χρήση των εντολών της."
   ]
  },
  {
   "cell_type": "code",
   "execution_count": 20,
   "id": "50bea23f",
   "metadata": {},
   "outputs": [],
   "source": [
    "import numpy as np"
   ]
  },
  {
   "cell_type": "code",
   "execution_count": 21,
   "id": "2f06b33c",
   "metadata": {},
   "outputs": [
    {
     "data": {
      "text/plain": [
       "array([1, 2, 3])"
      ]
     },
     "execution_count": 21,
     "metadata": {},
     "output_type": "execute_result"
    }
   ],
   "source": [
    "a=np.array([1,2,3])\n",
    "a"
   ]
  },
  {
   "cell_type": "markdown",
   "id": "7c4aa08d",
   "metadata": {},
   "source": [
    "Όμοια με τις λίστες, μπορούμε να επαναπροσδιορίσουμε τα στοιχεία του διανύσματος, και να πραγματοποιήσουμε οποιοδήποτε τεμαχισμό."
   ]
  },
  {
   "cell_type": "code",
   "execution_count": 22,
   "id": "b12f138f",
   "metadata": {},
   "outputs": [
    {
     "data": {
      "text/plain": [
       "array([19,  2,  3])"
      ]
     },
     "execution_count": 22,
     "metadata": {},
     "output_type": "execute_result"
    }
   ],
   "source": [
    "a[0]=19\n",
    "a"
   ]
  },
  {
   "cell_type": "code",
   "execution_count": 23,
   "id": "43c37e90",
   "metadata": {},
   "outputs": [
    {
     "data": {
      "text/plain": [
       "array([2, 3])"
      ]
     },
     "execution_count": 23,
     "metadata": {},
     "output_type": "execute_result"
    }
   ],
   "source": [
    "a[1:]"
   ]
  },
  {
   "cell_type": "markdown",
   "id": "8fdbbdb1",
   "metadata": {},
   "source": [
    "Εϊναι εύκολο να μετατρέψουμε μια λίστα σε ένα δίανυσμα της Numpy. Ορίστε την λίστα $f=[1,2,3]$"
   ]
  },
  {
   "cell_type": "markdown",
   "id": "cb67944d",
   "metadata": {},
   "source": [
    "f=[1,2,3]\n",
    "f=np.array(f)\n",
    "type(f)"
   ]
  },
  {
   "cell_type": "markdown",
   "id": "bc6c30ac",
   "metadata": {},
   "source": [
    "Με τον ίδιο τρόπο που ορίζουμε διανύσματα μπορούμε να ορίσουμε και πίνακες. Στην συνέχεια ορίζουμε έναν πίνακα 2x2."
   ]
  },
  {
   "cell_type": "code",
   "execution_count": 24,
   "id": "fb7efdf9",
   "metadata": {},
   "outputs": [
    {
     "data": {
      "text/plain": [
       "array([[1, 2],\n",
       "       [3, 4]])"
      ]
     },
     "execution_count": 24,
     "metadata": {},
     "output_type": "execute_result"
    }
   ],
   "source": [
    "A=np.array([[1,2], [3,4]])\n",
    "A"
   ]
  },
  {
   "cell_type": "markdown",
   "id": "6947c175",
   "metadata": {},
   "source": [
    "Παρατηρείστε την σύνταξη για τον ορισμό του πίνακα. Κάθε γραμμές του πίνακα ορίζεται μεσα σε αγκύλες, ενώ οι σειρές είναι διαχωρισμένες με κόμμα. Επιπροσθέτως, παρατηρείστε ότι όλες οι γραμμές του πίνακα περικλείονται επίσης με αγκύλες. Στην συνέχεια μπορούμε να ελέγξουμε την διάσταση του πίνακ αλλά και τον τύπο του."
   ]
  },
  {
   "cell_type": "code",
   "execution_count": 25,
   "id": "811972eb",
   "metadata": {},
   "outputs": [
    {
     "data": {
      "text/plain": [
       "(2, 2)"
      ]
     },
     "execution_count": 25,
     "metadata": {},
     "output_type": "execute_result"
    }
   ],
   "source": [
    "A.shape"
   ]
  },
  {
   "cell_type": "markdown",
   "id": "454fd28f",
   "metadata": {},
   "source": [
    "Στο κελί 30 παρατηρούμε ότι με την εντολή shape πέρνουμε την πληροφορία ότι πρόκειτε για έναν πίνακα δίαστάσεως 2x2,"
   ]
  },
  {
   "cell_type": "code",
   "execution_count": 26,
   "id": "66c350cb",
   "metadata": {},
   "outputs": [
    {
     "data": {
      "text/plain": [
       "dtype('int32')"
      ]
     },
     "execution_count": 26,
     "metadata": {},
     "output_type": "execute_result"
    }
   ],
   "source": [
    "A.dtype"
   ]
  },
  {
   "cell_type": "markdown",
   "id": "e1a9debe",
   "metadata": {},
   "source": [
    " ενώ στο κελί 31 πληροφορούμαστε ότι τα στοιχεία που αποτελούν τον πίνακα είναι ακέραιοι (32-bit ακέραιοι). Θα μπορούσαμε να ορίσουμε έναν πίνακα ώστε ο τύπος των στοιχείων του να είναι float ή κινητής υποδιαστολής. Για παράδειγμα,"
   ]
  },
  {
   "cell_type": "code",
   "execution_count": 27,
   "id": "22add3f8",
   "metadata": {},
   "outputs": [
    {
     "data": {
      "text/plain": [
       "array([[1., 2., 3.],\n",
       "       [4., 5., 6.]])"
      ]
     },
     "execution_count": 27,
     "metadata": {},
     "output_type": "execute_result"
    }
   ],
   "source": [
    "C = np.array([[1,2,3], [4,5,6]], dtype=np.float64)\n",
    "C\n"
   ]
  },
  {
   "cell_type": "code",
   "execution_count": 28,
   "id": "ea0336c3",
   "metadata": {},
   "outputs": [
    {
     "data": {
      "text/plain": [
       "dtype('float64')"
      ]
     },
     "execution_count": 28,
     "metadata": {},
     "output_type": "execute_result"
    }
   ],
   "source": [
    "C.dtype"
   ]
  },
  {
   "cell_type": "markdown",
   "id": "c89a7de6",
   "metadata": {},
   "source": [
    "Πως μπορώ να επικαλεστώ κάποιο στοιχείο ενός πίνακα; Η λογική δεν είναι πολύ διαφορετική από πριν. Τόσο οι γραμμές όσο και οι στήλες ξεκινούν την αρίθμησή τους από το 0. Επομένως το στοιχείο στην πρώτη γραμμή και πρώτη στήλη είναι το (0,0)."
   ]
  },
  {
   "cell_type": "code",
   "execution_count": 29,
   "id": "9436a589",
   "metadata": {},
   "outputs": [
    {
     "data": {
      "text/plain": [
       "1.0"
      ]
     },
     "execution_count": 29,
     "metadata": {},
     "output_type": "execute_result"
    }
   ],
   "source": [
    "C[0][0]"
   ]
  },
  {
   "cell_type": "markdown",
   "id": "8a9035ca",
   "metadata": {},
   "source": [
    "Αν ήθελα να επκαλεστώ όλη την πρώτη γραμμή θα πρέπει να αφήσω την στήλη κενή, και εν προκειμένω γράφω στην θέση της στήλη το σύμβολο άνω-κάτω τελεία."
   ]
  },
  {
   "cell_type": "code",
   "execution_count": 30,
   "id": "53be3e5d",
   "metadata": {},
   "outputs": [
    {
     "data": {
      "text/plain": [
       "array([1., 2., 3.])"
      ]
     },
     "execution_count": 30,
     "metadata": {},
     "output_type": "execute_result"
    }
   ],
   "source": [
    "C[0,:]"
   ]
  },
  {
   "cell_type": "code",
   "execution_count": 31,
   "id": "f904bb56",
   "metadata": {},
   "outputs": [
    {
     "data": {
      "text/plain": [
       "array([4., 5., 6.])"
      ]
     },
     "execution_count": 31,
     "metadata": {},
     "output_type": "execute_result"
    }
   ],
   "source": [
    "C[1,:]"
   ]
  },
  {
   "cell_type": "markdown",
   "id": "9ad3adde",
   "metadata": {},
   "source": [
    "Όμοια πράττω, όταν θέλω να επικαλεστώ μια στήλη. Ακολούθως επικαλούμε την πρώτη στήλη."
   ]
  },
  {
   "cell_type": "code",
   "execution_count": 32,
   "id": "cdeefc0a",
   "metadata": {},
   "outputs": [
    {
     "data": {
      "text/plain": [
       "array([1., 4.])"
      ]
     },
     "execution_count": 32,
     "metadata": {},
     "output_type": "execute_result"
    }
   ],
   "source": [
    "C[:,0]"
   ]
  },
  {
   "cell_type": "markdown",
   "id": "f5c800c2",
   "metadata": {},
   "source": [
    "### Βασικές πράξεις με πίνακες"
   ]
  },
  {
   "cell_type": "markdown",
   "id": "1d937936",
   "metadata": {},
   "source": [
    "Για να προσθέσουμε πίνακες πρέπει να είναι της ίδιας διάστασης. Προηγουμένως ορίσαμε τον πίνακα C με διάσταση 2x3."
   ]
  },
  {
   "cell_type": "code",
   "execution_count": 33,
   "id": "c5b7055f",
   "metadata": {},
   "outputs": [
    {
     "data": {
      "text/plain": [
       "(2, 3)"
      ]
     },
     "execution_count": 33,
     "metadata": {},
     "output_type": "execute_result"
    }
   ],
   "source": [
    "C.shape"
   ]
  },
  {
   "cell_type": "markdown",
   "id": "f48db760",
   "metadata": {},
   "source": [
    "Ο ανάστροφος πίνακας $C^T$ υπολογίζεται ως"
   ]
  },
  {
   "cell_type": "code",
   "execution_count": 34,
   "id": "6512a92a",
   "metadata": {},
   "outputs": [
    {
     "data": {
      "text/plain": [
       "array([[1., 4.],\n",
       "       [2., 5.],\n",
       "       [3., 6.]])"
      ]
     },
     "execution_count": 34,
     "metadata": {},
     "output_type": "execute_result"
    }
   ],
   "source": [
    "C.T"
   ]
  },
  {
   "cell_type": "code",
   "execution_count": 35,
   "id": "3ac627db",
   "metadata": {},
   "outputs": [
    {
     "data": {
      "text/plain": [
       "(3, 2)"
      ]
     },
     "execution_count": 35,
     "metadata": {},
     "output_type": "execute_result"
    }
   ],
   "source": [
    "C.T.shape"
   ]
  },
  {
   "cell_type": "markdown",
   "id": "b319ed12",
   "metadata": {},
   "source": [
    "Επίσης ορίζουμε τον πίνακα D."
   ]
  },
  {
   "cell_type": "code",
   "execution_count": 36,
   "id": "87f68834",
   "metadata": {},
   "outputs": [
    {
     "data": {
      "text/plain": [
       "array([[5., 6., 5.],\n",
       "       [8., 9., 1.]])"
      ]
     },
     "execution_count": 36,
     "metadata": {},
     "output_type": "execute_result"
    }
   ],
   "source": [
    "D=np.array([[5,6,5],[8,9,1]], dtype=np.float64)\n",
    "D"
   ]
  },
  {
   "cell_type": "markdown",
   "id": "d5539483",
   "metadata": {},
   "source": [
    "Στην συνέχεια προσθέτουμε τους δύο πίνακες."
   ]
  },
  {
   "cell_type": "code",
   "execution_count": 37,
   "id": "126d71e3",
   "metadata": {},
   "outputs": [
    {
     "data": {
      "text/plain": [
       "array([[ 6.,  8.,  8.],\n",
       "       [12., 14.,  7.]])"
      ]
     },
     "execution_count": 37,
     "metadata": {},
     "output_type": "execute_result"
    }
   ],
   "source": [
    "D+C"
   ]
  },
  {
   "cell_type": "code",
   "execution_count": 38,
   "id": "a9773245",
   "metadata": {},
   "outputs": [
    {
     "data": {
      "text/plain": [
       "array([[ 4.,  4.,  2.],\n",
       "       [ 4.,  4., -5.]])"
      ]
     },
     "execution_count": 38,
     "metadata": {},
     "output_type": "execute_result"
    }
   ],
   "source": [
    "E=D-C\n",
    "E"
   ]
  },
  {
   "cell_type": "markdown",
   "id": "81a9281f",
   "metadata": {},
   "source": [
    "Για να πολλαπλασιάσω πίνακες ο αριθμός των στηλών της πρώτης πρέπει να ταυτίζεται με τον αριθμό των γραμμών της δεύτερης. Παραπάνω έχω ορίσει τον πίνακα Ε. Ο αριθμός των στηλών του (3) είναι ίδιος με τον αριθμό των γραμμών της ανάστροφής C (C.T). Η εντολή που θα χρησιμοποιήσουμε για τον πολλαπλασιασμό είναι np.dot()"
   ]
  },
  {
   "cell_type": "code",
   "execution_count": 39,
   "id": "866e1a66",
   "metadata": {},
   "outputs": [
    {
     "data": {
      "text/plain": [
       "array([[18., 48.],\n",
       "       [-3.,  6.]])"
      ]
     },
     "execution_count": 39,
     "metadata": {},
     "output_type": "execute_result"
    }
   ],
   "source": [
    "np.dot(E, C.T)"
   ]
  },
  {
   "cell_type": "markdown",
   "id": "97bce5eb",
   "metadata": {},
   "source": [
    "Ευκολα παρατηρούμε ότι πολλαπλασιάζοντας του πίνακες Ε*(C.T)  με διαστάσεις αντίστοιχα 2x3 και 3x2, το αποτέλεσμα του πολλαπλασιασμού είναι 2x2. Ένας ισοδύναμος τρόπος για να προχωρήσουμε στον ίδιο υπολογισμό είναι και ο ακόλουθος."
   ]
  },
  {
   "cell_type": "code",
   "execution_count": 40,
   "id": "b9daee13",
   "metadata": {},
   "outputs": [
    {
     "data": {
      "text/plain": [
       "array([[18., 48.],\n",
       "       [-3.,  6.]])"
      ]
     },
     "execution_count": 40,
     "metadata": {},
     "output_type": "execute_result"
    }
   ],
   "source": [
    "E.dot(C.T)"
   ]
  },
  {
   "cell_type": "markdown",
   "id": "b9fa0893",
   "metadata": {},
   "source": [
    " **Λύση ενός συστήματος δύο εξισώσεων**"
   ]
  },
  {
   "cell_type": "markdown",
   "id": "b72afcc0",
   "metadata": {},
   "source": [
    "Ας υποθέσουμε ότι έχουμε το ακόλουθο σύστημα εξισώσεων\n",
    "$$ 2x + 3y =8 $$\n",
    "$$ x  + 6y =1 $$\n",
    "\n",
    "Θα μπορούσαμε να το γράψουμε σε μορφή πινάκων στην γενική μορφή $A \\cdot X=b$ οπου \n",
    "\n",
    "$$ A =\\begin{bmatrix}\n",
    "2 & 3 \\\\\n",
    "1 & 6 \n",
    "\\end{bmatrix} $$\n",
    "και $X^T=(x,y)$, $b^T=(8,1)$.  Η λύση απαιτεί την αντίστροφη της Α, καθώς $X=A^{-1}b$."
   ]
  },
  {
   "cell_type": "code",
   "execution_count": 41,
   "id": "98a28f16",
   "metadata": {},
   "outputs": [],
   "source": [
    "A=np.array([[2,3], [1,6]])\n",
    "b=np.array([8,1])\n"
   ]
  },
  {
   "cell_type": "raw",
   "id": "43f6cb58",
   "metadata": {},
   "source": [
    "Με την εντολή np.linalg.inv(A) αντιστρέφουμε τον πίνακα Α."
   ]
  },
  {
   "cell_type": "code",
   "execution_count": 42,
   "id": "321cb2c7",
   "metadata": {},
   "outputs": [
    {
     "data": {
      "text/plain": [
       "array([[ 0.66666667, -0.33333333],\n",
       "       [-0.11111111,  0.22222222]])"
      ]
     },
     "execution_count": 42,
     "metadata": {},
     "output_type": "execute_result"
    }
   ],
   "source": [
    "Ainv =np.linalg.inv(A)\n",
    "Ainv"
   ]
  },
  {
   "cell_type": "code",
   "execution_count": 44,
   "id": "8d02d7cc",
   "metadata": {},
   "outputs": [
    {
     "data": {
      "text/plain": [
       "array([ 5.        , -0.66666667])"
      ]
     },
     "execution_count": 44,
     "metadata": {},
     "output_type": "execute_result"
    }
   ],
   "source": [
    "X=Ainv.dot(b)\n",
    "X"
   ]
  },
  {
   "cell_type": "markdown",
   "id": "e4a7870b",
   "metadata": {},
   "source": [
    "Ένας πιο εύκολος τρόπος είναι να χρησιμοποιήσουμε απευθείας την έτοιμη εντολή της Numpy, linalg.solve(A, b)."
   ]
  },
  {
   "cell_type": "code",
   "execution_count": 47,
   "id": "6a6585eb",
   "metadata": {},
   "outputs": [
    {
     "data": {
      "text/plain": [
       "array([ 5.        , -0.66666667])"
      ]
     },
     "execution_count": 47,
     "metadata": {},
     "output_type": "execute_result"
    }
   ],
   "source": [
    "X= np.linalg.solve(A, b)\n",
    "X"
   ]
  },
  {
   "cell_type": "code",
   "execution_count": null,
   "id": "9e39c130",
   "metadata": {},
   "outputs": [],
   "source": []
  }
 ],
 "metadata": {
  "kernelspec": {
   "display_name": "Python 3 (ipykernel)",
   "language": "python",
   "name": "python3"
  },
  "language_info": {
   "codemirror_mode": {
    "name": "ipython",
    "version": 3
   },
   "file_extension": ".py",
   "mimetype": "text/x-python",
   "name": "python",
   "nbconvert_exporter": "python",
   "pygments_lexer": "ipython3",
   "version": "3.10.9"
  }
 },
 "nbformat": 4,
 "nbformat_minor": 5
}
