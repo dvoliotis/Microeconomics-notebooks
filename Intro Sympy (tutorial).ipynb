{
 "cells": [
  {
   "cell_type": "markdown",
   "metadata": {},
   "source": [
    "##  Η βιβλιοθήκη  Sympy"
   ]
  },
  {
   "cell_type": "markdown",
   "metadata": {},
   "source": [
    "Η βιβλιοθήκη της Python που εισαγάγουμε εδώ μας βοηθά να κάνουμε συμβολικούς υπολογισμούς"
   ]
  },
  {
   "cell_type": "code",
   "execution_count": null,
   "metadata": {},
   "outputs": [],
   "source": []
  }
 ],
 "metadata": {
  "language_info": {
   "name": "python"
  },
  "orig_nbformat": 4
 },
 "nbformat": 4,
 "nbformat_minor": 2
}
